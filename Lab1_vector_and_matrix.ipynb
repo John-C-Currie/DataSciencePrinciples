{
 "cells": [
  {
   "cell_type": "markdown",
   "metadata": {},
   "source": [
    "# Part 2. Vector and Matrix"
   ]
  },
  {
   "cell_type": "markdown",
   "metadata": {},
   "source": [
    "In this lab, we will learn how to use Python to operate vectors and matrices. "
   ]
  },
  {
   "cell_type": "markdown",
   "metadata": {},
   "source": [
    "## 1. Example"
   ]
  },
  {
   "cell_type": "markdown",
   "metadata": {},
   "source": [
    "### 1.1 Load data with pandas"
   ]
  },
  {
   "cell_type": "code",
   "execution_count": 1,
   "metadata": {},
   "outputs": [
    {
     "name": "stdout",
     "output_type": "stream",
     "text": [
      "<class 'numpy.ndarray'>\n",
      "(406, 7)\n",
      "[[18.0 8 307.0 ... 3504 12.0 70]\n",
      " [15.0 8 350.0 ... 3693 11.5 70]\n",
      " [18.0 8 318.0 ... 3436 11.0 70]\n",
      " ...\n",
      " [32.0 4 135.0 ... 2295 11.6 82]\n",
      " [28.0 4 120.0 ... 2625 18.6 82]\n",
      " [31.0 4 119.0 ... 2720 19.4 82]]\n"
     ]
    }
   ],
   "source": [
    "import numpy as np\n",
    "import pandas as pd\n",
    "\n",
    "# load data with pandas\n",
    "df = pd.read_csv('cars.csv')\n",
    "# print(df)\n",
    "\n",
    "# convert a pandas dataframe to a numpy array\n",
    "X = df.values[:, 1:-1]\n",
    "print(type(X))\n",
    "print(X.shape)\n",
    "print(X)"
   ]
  },
  {
   "cell_type": "markdown",
   "metadata": {},
   "source": [
    "### 1.2 Operation for vector"
   ]
  },
  {
   "cell_type": "code",
   "execution_count": 29,
   "metadata": {},
   "outputs": [
    {
     "name": "stdout",
     "output_type": "stream",
     "text": [
      "[18.0 8 307.0 130 3504 12.0 70]\n",
      "[28.0 4 120.0 79 2625 18.6 82]\n",
      "[46.0 12 427.0 209 6129 30.6 152]\n"
     ]
    }
   ],
   "source": [
    "#Get first row and the second to last row\n",
    "\n",
    "x1 = X[0, :]\n",
    "x2 = X[-2, :]\n",
    "\n",
    "print(x1)\n",
    "print(x2)\n",
    "\n",
    "# Addition\n",
    "\n",
    "y = x1 + x2\n",
    "print(y)"
   ]
  },
  {
   "cell_type": "markdown",
   "metadata": {},
   "source": [
    "### 1.3 Operation for matrix"
   ]
  },
  {
   "cell_type": "code",
   "execution_count": 32,
   "metadata": {},
   "outputs": [
    {
     "name": "stdout",
     "output_type": "stream",
     "text": [
      "[[18.0 8 307.0 130 3504 12.0 70]\n",
      " [15.0 8 350.0 165 3693 11.5 70]\n",
      " [18.0 8 318.0 150 3436 11.0 70]\n",
      " [16.0 8 304.0 150 3433 12.0 70]\n",
      " [17.0 8 302.0 140 3449 10.5 70]]\n",
      "[[27.0 4 140.0 86 2790 15.6 82]\n",
      " [44.0 4 97.0 52 2130 24.6 82]\n",
      " [32.0 4 135.0 84 2295 11.6 82]\n",
      " [28.0 4 120.0 79 2625 18.6 82]\n",
      " [31.0 4 119.0 82 2720 19.4 82]]\n",
      "[[-9.0 4 167.0 44 714 -3.5999999999999996 -12]\n",
      " [-29.0 4 253.0 113 1563 -13.100000000000001 -12]\n",
      " [-14.0 4 183.0 66 1141 -0.5999999999999996 -12]\n",
      " [-12.0 4 184.0 71 808 -6.600000000000001 -12]\n",
      " [-14.0 4 183.0 58 729 -8.899999999999999 -12]]\n"
     ]
    }
   ],
   "source": [
    "# Get first 5 rows and last 5 rows \n",
    "\n",
    "m1 = X[0:5, :]\n",
    "m2 = X[-5:, :]\n",
    "\n",
    "print(m1)\n",
    "print(m2)\n",
    "\n",
    "# Subtraction\n",
    "m = m1 - m2\n",
    "print(m)"
   ]
  },
  {
   "cell_type": "markdown",
   "metadata": {},
   "source": [
    "## 2 Task"
   ]
  },
  {
   "cell_type": "markdown",
   "metadata": {},
   "source": [
    "### 2.1 Get the first column and the second to last column from X"
   ]
  },
  {
   "cell_type": "code",
   "execution_count": 31,
   "metadata": {
    "scrolled": true
   },
   "outputs": [
    {
     "name": "stdout",
     "output_type": "stream",
     "text": [
      "[18.0 15.0 18.0 16.0 17.0 15.0 14.0 14.0 14.0 15.0 0.0 0.0 0.0 0.0 0.0\n",
      " 15.0 14.0 0.0 15.0 14.0 24.0 22.0 18.0 21.0 27.0 26.0 25.0 24.0 25.0 26.0\n",
      " 21.0 10.0 10.0 11.0 9.0 27.0 28.0 25.0 25.0 0.0 19.0 16.0 17.0 19.0 18.0\n",
      " 14.0 14.0 14.0 14.0 12.0 13.0 13.0 18.0 22.0 19.0 18.0 23.0 28.0 30.0\n",
      " 30.0 31.0 35.0 27.0 26.0 24.0 25.0 23.0 20.0 21.0 13.0 14.0 15.0 14.0\n",
      " 17.0 11.0 13.0 12.0 13.0 19.0 15.0 13.0 13.0 14.0 18.0 22.0 21.0 26.0\n",
      " 22.0 28.0 23.0 28.0 27.0 13.0 14.0 13.0 14.0 15.0 12.0 13.0 13.0 14.0\n",
      " 13.0 12.0 13.0 18.0 16.0 18.0 18.0 23.0 26.0 11.0 12.0 13.0 12.0 18.0\n",
      " 20.0 21.0 22.0 18.0 19.0 21.0 26.0 15.0 16.0 29.0 24.0 20.0 19.0 15.0\n",
      " 24.0 20.0 11.0 20.0 21.0 19.0 15.0 31.0 26.0 32.0 25.0 16.0 16.0 18.0\n",
      " 16.0 13.0 14.0 14.0 14.0 29.0 26.0 26.0 31.0 32.0 28.0 24.0 26.0 24.0\n",
      " 26.0 31.0 19.0 18.0 15.0 15.0 16.0 15.0 16.0 14.0 17.0 16.0 15.0 18.0\n",
      " 21.0 20.0 13.0 29.0 23.0 20.0 23.0 24.0 25.0 24.0 18.0 29.0 19.0 23.0\n",
      " 23.0 22.0 25.0 33.0 28.0 25.0 25.0 26.0 27.0 17.5 16.0 15.5 14.5 22.0\n",
      " 22.0 24.0 22.5 29.0 24.5 29.0 33.0 20.0 18.0 18.5 17.5 29.5 32.0 28.0\n",
      " 26.5 20.0 13.0 19.0 19.0 16.5 16.5 13.0 13.0 13.0 31.5 30.0 36.0 25.5\n",
      " 33.5 17.5 17.0 15.5 15.0 17.5 20.5 19.0 18.5 16.0 15.5 15.5 16.0 29.0\n",
      " 24.5 26.0 25.5 30.5 33.5 30.0 30.5 22.0 21.5 21.5 43.1 36.1 32.8 39.4\n",
      " 36.1 19.9 19.4 20.2 19.2 20.5 20.2 25.1 20.5 19.4 20.6 20.8 18.6 18.1\n",
      " 19.2 17.7 18.1 17.5 30.0 27.5 27.2 30.9 21.1 23.2 23.8 23.9 20.3 17.0\n",
      " 21.6 16.2 31.5 29.5 21.5 19.8 22.3 20.2 20.6 17.0 17.6 16.5 18.2 16.9\n",
      " 15.5 19.2 18.5 31.9 34.1 35.7 27.4 25.4 23.0 27.2 23.9 34.2 34.5 31.8\n",
      " 37.3 28.4 28.8 26.8 33.5 41.5 38.1 32.1 37.2 28.0 26.4 24.3 19.1 34.3\n",
      " 29.8 31.3 37.0 32.2 46.6 27.9 40.8 44.3 43.4 36.4 30.0 44.6 40.9 33.8\n",
      " 29.8 32.7 23.7 35.0 23.6 32.4 27.2 26.6 25.8 23.5 30.0 39.1 39.0 35.1\n",
      " 32.3 37.0 37.7 34.1 34.7 34.4 29.9 33.0 34.5 33.7 32.4 32.9 31.6 28.1 0.0\n",
      " 30.7 25.4 24.2 22.4 26.6 20.2 17.6 28.0 27.0 34.0 31.0 29.0 27.0 24.0\n",
      " 23.0 36.0 37.0 31.0 38.0 36.0 36.0 36.0 34.0 38.0 32.0 38.0 25.0 38.0\n",
      " 26.0 22.0 32.0 36.0 27.0 27.0 44.0 32.0 28.0 31.0]\n",
      "[12.0 11.5 11.0 12.0 10.5 10.0 9.0 8.5 10.0 8.5 17.5 11.5 11.0 10.5 11.0\n",
      " 10.0 8.0 8.0 9.5 10.0 15.0 15.5 15.5 16.0 14.5 20.5 17.5 14.5 17.5 12.5\n",
      " 15.0 14.0 15.0 13.5 18.5 14.5 15.5 14.0 19.0 20.0 13.0 15.5 15.5 15.5\n",
      " 15.5 12.0 11.5 13.5 13.0 11.5 12.0 12.0 13.5 19.0 15.0 14.5 14.0 14.0\n",
      " 19.5 14.5 19.0 18.0 19.0 20.5 15.5 17.0 23.5 19.5 16.5 12.0 12.0 13.5\n",
      " 13.0 11.5 11.0 13.5 13.5 12.5 13.5 12.5 14.0 16.0 14.0 14.5 18.0 19.5\n",
      " 18.0 16.0 17.0 14.5 15.0 16.5 13.0 11.5 13.0 14.5 12.5 11.5 12.0 13.0\n",
      " 14.5 11.0 11.0 11.0 16.5 18.0 16.0 16.5 16.0 21.0 14.0 12.5 13.0 12.5\n",
      " 15.0 19.0 19.5 16.5 13.5 18.5 14.0 15.5 13.0 9.5 19.5 15.5 14.0 15.5 11.0\n",
      " 14.0 13.5 11.0 16.5 17.0 16.0 17.0 19.0 16.5 21.0 17.0 17.0 18.0 16.5\n",
      " 14.0 14.5 13.5 16.0 15.5 16.5 15.5 14.5 16.5 19.0 14.5 15.5 14.0 15.0\n",
      " 15.5 16.0 16.0 16.0 21.0 19.5 11.5 14.0 14.5 13.5 21.0 18.5 19.0 19.0\n",
      " 15.0 13.5 12.0 16.0 17.0 16.0 18.5 13.5 16.5 17.0 14.5 14.0 17.0 15.0\n",
      " 17.0 14.5 13.5 17.5 15.5 16.9 14.9 17.7 15.3 13.0 13.0 13.9 12.8 15.4\n",
      " 14.5 17.6 17.6 22.2 22.1 14.2 17.4 17.7 21.0 16.2 17.8 12.2 17.0 16.4\n",
      " 13.6 15.7 13.2 21.9 15.5 16.7 12.1 12.0 15.0 14.0 18.5 14.8 18.6 15.5\n",
      " 16.8 12.5 19.0 13.7 14.9 16.4 16.9 17.7 19.0 11.1 11.4 12.2 14.5 14.5\n",
      " 16.0 18.2 15.8 17.0 15.9 16.4 14.1 14.5 12.8 13.5 21.5 14.4 19.4 18.6\n",
      " 16.4 15.5 13.2 12.8 19.2 18.2 15.8 15.4 17.2 17.2 15.8 16.7 18.7 15.1\n",
      " 13.2 13.4 11.2 13.7 16.5 14.2 14.7 14.5 14.8 16.7 17.6 14.9 15.9 13.6\n",
      " 15.7 15.8 14.9 16.6 15.4 18.2 17.3 18.2 16.6 15.4 13.4 13.2 15.2 14.9\n",
      " 14.3 15.0 13.0 14.0 15.2 14.4 15.0 20.1 17.4 24.8 22.2 13.2 14.9 19.2\n",
      " 14.7 16.0 11.3 12.9 13.2 14.7 18.8 15.5 16.4 16.5 18.1 20.1 18.7 15.8\n",
      " 15.5 17.5 15.0 15.2 17.9 14.4 19.2 21.7 23.7 19.9 21.8 13.8 17.3 18.0\n",
      " 15.3 11.4 12.5 15.1 14.3 17.0 15.7 16.4 14.4 12.6 12.9 16.9 16.4 16.1\n",
      " 17.8 19.4 17.3 16.0 14.9 16.2 20.7 14.2 15.8 14.4 16.8 14.8 18.3 20.4\n",
      " 15.4 19.6 12.6 13.8 15.8 19.0 17.1 16.6 19.6 18.6 18.0 16.2 16.0 18.0\n",
      " 16.4 20.5 15.3 18.2 17.6 14.7 17.3 14.5 14.5 16.9 15.0 15.7 16.2 16.4\n",
      " 17.0 14.5 14.7 13.9 13.0 17.3 15.6 24.6 11.6 18.6 19.4]\n"
     ]
    }
   ],
   "source": [
    "# this is your code to get two vectors\n",
    "col1 = X[:,0]\n",
    "col2 = X[:,-2]\n",
    "\n",
    "print(col1)\n",
    "print(col2)"
   ]
  },
  {
   "cell_type": "markdown",
   "metadata": {},
   "source": [
    "### 2.2 Perform following operations on these two vectors and print the result"
   ]
  },
  {
   "cell_type": "code",
   "execution_count": 41,
   "metadata": {},
   "outputs": [
    {
     "name": "stdout",
     "output_type": "stream",
     "text": [
      "9358.800000000003\n",
      "494.28813459357895\n",
      "46.6\n",
      "216.10913909411607\n"
     ]
    }
   ],
   "source": [
    "\n",
    "# 1. addition and subtraction\n",
    "col_add = col1 + col2\n",
    "col_sub = col1 - col2\n",
    "\n",
    "print(col_add)\n",
    "print(col_sub)\n",
    "\n",
    "# 2. element-wise multiplication\n",
    "col_mul = np.multiply(col1,col2)\n",
    "print(col_mul)\n",
    "\n",
    "# 3. inner product\n",
    "inner_pro = np.inner(col1,col2)\n",
    "print(inner_pro)\n",
    "\n",
    "# 4. three norms\n",
    "norm1 = np.linalg.norm(col1,1)\n",
    "norm2 = np.linalg.norm(col1,2)\n",
    "norm_inf = np.linalg.norm(col1,np.inf)\n",
    "\n",
    "print(norm1)\n",
    "print(norm2)\n",
    "print(norm_inf)\n",
    "\n",
    "# 5. compute the distance between these two vectors\n",
    "dist = np.linalg.norm(col_sub, 2)\n",
    "print(dist)"
   ]
  },
  {
   "cell_type": "markdown",
   "metadata": {},
   "source": [
    "### 2.3 Get the first three columns and the last three columns from X"
   ]
  },
  {
   "cell_type": "code",
   "execution_count": 43,
   "metadata": {},
   "outputs": [
    {
     "name": "stdout",
     "output_type": "stream",
     "text": [
      "[[18.0 8 307.0]\n",
      " [15.0 8 350.0]\n",
      " [18.0 8 318.0]\n",
      " ...\n",
      " [32.0 4 135.0]\n",
      " [28.0 4 120.0]\n",
      " [31.0 4 119.0]]\n",
      "[[3504 12.0 70]\n",
      " [3693 11.5 70]\n",
      " [3436 11.0 70]\n",
      " ...\n",
      " [2295 11.6 82]\n",
      " [2625 18.6 82]\n",
      " [2720 19.4 82]]\n"
     ]
    }
   ],
   "source": [
    "# this is your code to get two matrices: A, B\n",
    "A = X[:,0:3]\n",
    "B = X[:,-3:]\n",
    "\n",
    "print(A)\n",
    "print(B)"
   ]
  },
  {
   "cell_type": "markdown",
   "metadata": {},
   "source": [
    "### 2.4 Perform following operations on these two matrices and print the result"
   ]
  },
  {
   "cell_type": "code",
   "execution_count": 55,
   "metadata": {},
   "outputs": [
    {
     "name": "stdout",
     "output_type": "stream",
     "text": [
      "(3, 406)\n",
      "[[84658.0 88056.0 83426.0 ... 66576.8 72572.8 74289.2]\n",
      " [77156.0 79987.0 76128.0 ... 63217.8 68223.8 69655.2]\n",
      " [85428.0 88826.0 84196.0 ... 67478.8 73474.8 75191.2]\n",
      " ...\n",
      " [121626.0 127672.0 119446.0 ... 84556.4 95144.4 98187.6]\n",
      " [106560.0 111850.0 104652.0 ... 74146.4 83414.4 86077.6]\n",
      " [117002.0 122859.0 114890.0 ... 80949.4 91207.4 94155.6]]\n",
      "(406, 406)\n",
      "(3, 406)\n",
      "[[25614040.900000002 149295.04000000004 718009.0999999995]\n",
      " [7149030 33484.69999999997 167835]\n",
      " [269175402.0 1160836.2999999998 5943079.0]]\n",
      "(3, 3)\n"
     ]
    }
   ],
   "source": [
    "# 1. addition and subtraction \n",
    "print(A+B)\n",
    "print(A-B)\n",
    "\n",
    "# 2. compute the transpose of the second matrix: C = B^T, and print the shape of C\n",
    "C = np.transpose(B)\n",
    "print(C.shape)\n",
    "\n",
    "# 3. compute the product between A and C, and print the result and its shape\n",
    "AC = np.dot(A,C)\n",
    "print(AC)\n",
    "print(AC.shape)\n",
    "\n",
    "# 4. compute the transpose of the first matrix: D = A^T, and print the shape of D\n",
    "D = np.transpose(A)\n",
    "print(D.shape)\n",
    "\n",
    "# 5. compute the product between D and B, and print the result and its shape\n",
    "DB = np.dot(D,B)\n",
    "print(DB)\n",
    "print(DB.shape)"
   ]
  },
  {
   "cell_type": "code",
   "execution_count": null,
   "metadata": {},
   "outputs": [],
   "source": []
  }
 ],
 "metadata": {
  "kernelspec": {
   "display_name": "Python 3 (ipykernel)",
   "language": "python",
   "name": "python3"
  },
  "language_info": {
   "codemirror_mode": {
    "name": "ipython",
    "version": 3
   },
   "file_extension": ".py",
   "mimetype": "text/x-python",
   "name": "python",
   "nbconvert_exporter": "python",
   "pygments_lexer": "ipython3",
   "version": "3.12.1"
  }
 },
 "nbformat": 4,
 "nbformat_minor": 4
}
