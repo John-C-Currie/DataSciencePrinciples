{
 "cells": [
  {
   "cell_type": "code",
   "execution_count": 1,
   "id": "33b615a2-ff5d-42b8-a6fc-434588112fc8",
   "metadata": {},
   "outputs": [],
   "source": [
    "#imports\n",
    "import pandas as pd\n",
    "import numpy as np\n",
    "from sklearn.preprocessing import LabelEncoder\n",
    "from sklearn.model_selection import train_test_split\n",
    "from sklearn.preprocessing import StandardScaler\n",
    "from sklearn.linear_model import LinearRegression, Ridge, Lasso\n",
    "from sklearn.metrics import mean_absolute_error,mean_squared_error\n",
    "import matplotlib.pyplot as plt\n"
   ]
  },
  {
   "cell_type": "code",
   "execution_count": 2,
   "id": "3454d5dc-f7bb-4cc1-a50f-f1bc291e38fd",
   "metadata": {},
   "outputs": [
    {
     "name": "stdout",
     "output_type": "stream",
     "text": [
      "<bound method DataFrame.info of       age  sex     bmi  children  smoker  region      charges\n",
      "0      19    0  27.900         0       1       3  16884.92400\n",
      "1      18    1  33.770         1       0       2   1725.55230\n",
      "2      28    1  33.000         3       0       2   4449.46200\n",
      "3      33    1  22.705         0       0       1  21984.47061\n",
      "4      32    1  28.880         0       0       1   3866.85520\n",
      "...   ...  ...     ...       ...     ...     ...          ...\n",
      "1333   50    1  30.970         3       0       1  10600.54830\n",
      "1334   18    0  31.920         0       0       0   2205.98080\n",
      "1335   18    0  36.850         0       0       2   1629.83350\n",
      "1336   21    0  25.800         0       0       3   2007.94500\n",
      "1337   61    0  29.070         0       1       1  29141.36030\n",
      "\n",
      "[1338 rows x 7 columns]>\n"
     ]
    }
   ],
   "source": [
    "#2.1\n",
    "\n",
    "df = pd.read_csv('insurance.csv')\n",
    "\n",
    "Insurance = df.values[:, 1:-1]\n",
    "\n",
    "\n",
    "labelencoder = LabelEncoder()\n",
    "df['sex'] = labelencoder.fit_transform(df['sex'])\n",
    "df['smoker'] = labelencoder.fit_transform(df['smoker'])\n",
    "df['region'] = labelencoder.fit_transform(df['region'])\n",
    "\n",
    "print(df.info)"
   ]
  },
  {
   "cell_type": "code",
   "execution_count": 3,
   "id": "369ab9db-75f8-4b1f-a507-110599ad96fc",
   "metadata": {},
   "outputs": [
    {
     "name": "stdout",
     "output_type": "stream",
     "text": [
      "(1070, 6)\n",
      "(268, 6)\n"
     ]
    }
   ],
   "source": [
    "#1.2\n",
    "insurance_fea = df.drop('charges', axis=1).values\n",
    "charges = df['charges'].values\n",
    "charges = charges / np.max(charges)\n",
    "\n",
    "Xlr_train,Xlr_test,ylr_train,ylr_test = train_test_split(insurance_fea,\n",
    "                                                 charges,\n",
    "                                                 test_size=0.2,\n",
    "                                                 random_state=42)\n",
    "print(Xlr_train.shape)\n",
    "print(Xlr_test.shape)\n",
    "\n",
    "\n",
    "# normalize features\n",
    "normalizer = StandardScaler()\n",
    "Xlr_train = normalizer.fit_transform(Xlr_train)\n",
    "Xlr_test = normalizer.transform(Xlr_test)"
   ]
  },
  {
   "cell_type": "code",
   "execution_count": 4,
   "id": "188d9989-e086-44c6-b4a3-b6bc3043a039",
   "metadata": {},
   "outputs": [
    {
     "name": "stdout",
     "output_type": "stream",
     "text": [
      "bias is 0.20928336460705027\n",
      "coefficients  is [ 5.67051024e-02 -1.47293258e-04  3.18064131e-02  8.10191467e-03\n",
      "  1.49867951e-01 -4.74182139e-03]\n",
      "prediction for training set:\n",
      "MAE is: 0.06599864797091509\n",
      "MSE is: 0.00916737434945697\n",
      "RMSE is: 0.09574640645714579\n"
     ]
    }
   ],
   "source": [
    "#1.3\n",
    "lr = LinearRegression()\n",
    "\n",
    "lr.fit(Xlr_train,ylr_train)\n",
    "\n",
    "print(\"bias is \"+str(lr.intercept_))\n",
    "print(\"coefficients  is \"+str(lr.coef_))\n",
    "\n",
    "ylr_train_pred = lr.predict(Xlr_train)\n",
    "\n",
    "lr_train_mae = mean_absolute_error(ylr_train_pred,ylr_train)\n",
    "lr_train_mse = mean_squared_error(ylr_train_pred,ylr_train)\n",
    "lr_train_rmse = np.sqrt(lr_train_mse)\n",
    "\n",
    "print('prediction for training set:')\n",
    "print('MAE is: {}'.format(lr_train_mae))\n",
    "print('MSE is: {}'.format(lr_train_mse))\n",
    "print('RMSE is: {}'.format(lr_train_rmse))"
   ]
  },
  {
   "cell_type": "code",
   "execution_count": 5,
   "id": "4f7cb17c-2595-46af-af6e-375d632e56de",
   "metadata": {},
   "outputs": [
    {
     "name": "stdout",
     "output_type": "stream",
     "text": [
      "prediction for testing set:\n",
      "MAE is: 0.06564969107169769\n",
      "MSE is: 0.008270951713078177\n",
      "RMSE is: 0.09094477287386107\n"
     ]
    },
    {
     "data": {
      "image/png": "[encoded data removed]",
      "text/plain": [
       "<Figure size 640x480 with 1 Axes>"
      ]
     },
     "metadata": {},
     "output_type": "display_data"
    }
   ],
   "source": [
    "#1.4\n",
    "ylr_test_pred = lr.predict(Xlr_test)\n",
    "\n",
    "lr_test_mae = mean_absolute_error(ylr_test_pred,ylr_test)\n",
    "lr_test_mse = mean_squared_error(ylr_test_pred,ylr_test)\n",
    "lr_test_rmse = np.sqrt(lr_test_mse)\n",
    "\n",
    "print('prediction for testing set:')\n",
    "print('MAE is: {}'.format(lr_test_mae))\n",
    "print('MSE is: {}'.format(lr_test_mse))\n",
    "print('RMSE is: {}'.format(lr_test_rmse))\n",
    "\n",
    "\n",
    "labels = ['Insurance1', 'Insurance2', 'Insurance3', 'Insurance4', 'Insurance5']\n",
    "x = np.arange(len(labels))  # the label locations\n",
    "width = 0.35  # the width of the bars\n",
    "\n",
    "fig, ax = plt.subplots()\n",
    "rects1 = ax.bar(x - width/2, ylr_test[0:5], width, label='ground truth')\n",
    "rects2 = ax.bar(x + width/2, ylr_test_pred[0:5], width, label='prediction')\n",
    "\n",
    "ax.set_ylabel('Charges')\n",
    "ax.set_xticks(x)\n",
    "ax.set_xticklabels(labels)\n",
    "ax.legend()\n",
    "\n",
    "plt.show()"
   ]
  },
  {
   "cell_type": "code",
   "execution_count": 6,
   "id": "7d078135-8d1f-47f9-b8b1-6d658926f8a9",
   "metadata": {},
   "outputs": [
    {
     "name": "stdout",
     "output_type": "stream",
     "text": [
      "(1070, 6)\n",
      "(268, 6)\n",
      "bias is 0.20928336460705027\n",
      "coefficients  is [ 5.66993576e-02 -1.46253412e-04  3.18039167e-02  8.10168706e-03\n",
      "  1.49853576e-01 -4.74098902e-03]\n",
      "prediction for linear reg testing set:\n",
      "MAE is: 0.06564969107169769\n",
      "MSE is: 0.008270951713078177\n",
      "RMSE is: 0.09094477287386107\n",
      "\n",
      "\n",
      "prediction for ridge (alpha: 0.1) testing set:\n",
      "MAE is: 0.06565198712488948\n",
      "MSE is: 0.008271112026766076\n",
      "RMSE is: 0.09094565424893086\n",
      "\n",
      "\n",
      "MAE difference: 2.296053191797043e-06\n",
      "MSE difference: 1.6031368789935774e-07\n",
      "RMSE difference: 8.813750697889144e-07\n",
      "\n",
      "\n",
      "bias is 0.20928336460705027\n",
      "coefficients  is [ 5.66477072e-02 -1.36912304e-04  3.17814658e-02  8.09963575e-03\n",
      "  1.49724329e-01 -4.73350751e-03]\n",
      "prediction for linear reg testing set:\n",
      "MAE is: 0.06564969107169769\n",
      "MSE is: 0.008270951713078177\n",
      "RMSE is: 0.09094477287386107\n",
      "\n",
      "\n",
      "prediction for ridge (alpha: 1.0) testing set:\n",
      "MAE is: 0.06567262940074665\n",
      "MSE is: 0.008272576669548306\n",
      "RMSE is: 0.09095370618918344\n",
      "\n",
      "\n",
      "MAE difference: 2.2938329048968753e-05\n",
      "MSE difference: 1.6249564701292102e-06\n",
      "RMSE difference: 8.933315322368074e-06\n",
      "\n",
      "\n",
      "bias is 0.20928336460705027\n",
      "coefficients  is [ 0.05149357  0.0007224   0.02948645  0.00785039  0.13675698 -0.0040074 ]\n",
      "prediction for linear reg testing set:\n",
      "MAE is: 0.06564969107169769\n",
      "MSE is: 0.008270951713078177\n",
      "RMSE is: 0.09094477287386107\n",
      "\n",
      "\n",
      "prediction for ridge (alpha: 100.0) testing set:\n",
      "MAE is: 0.0683592408129284\n",
      "MSE is: 0.008631791767938119\n",
      "RMSE is: 0.09290743655885743\n",
      "\n",
      "\n",
      "MAE difference: 0.0027095497412307212\n",
      "MSE difference: 0.0003608400548599424\n",
      "RMSE difference: 0.0019626636849963547\n",
      "\n",
      "\n"
     ]
    }
   ],
   "source": [
    "#1.5\n",
    "insurance_fea = df.drop('charges', axis=1).values\n",
    "charges = df['charges'].values\n",
    "charges = charges / np.max(charges)\n",
    "\n",
    "Xr_train,Xr_test,yr_train,yr_test = train_test_split(insurance_fea,\n",
    "                                                 charges,\n",
    "                                                 test_size=0.2,\n",
    "                                                 random_state=42)\n",
    "print(Xr_train.shape)\n",
    "print(Xr_test.shape)\n",
    "\n",
    "\n",
    "# normalize features\n",
    "normalizer = StandardScaler()\n",
    "Xr_train = normalizer.fit_transform(Xr_train)\n",
    "Xr_test = normalizer.transform(Xr_test)\n",
    "\n",
    "alphas = [0.1, 1.0, 100.0]\n",
    "\n",
    "for alpha in alphas:\n",
    "    ridge = Ridge(alpha)\n",
    "    \n",
    "    ridge.fit(Xr_train,yr_train)\n",
    "    \n",
    "    print(\"bias is \"+str(ridge.intercept_))\n",
    "    print(\"coefficients  is \"+str(ridge.coef_))\n",
    "    \n",
    "    yr_train_pred = ridge.predict(Xr_train)\n",
    "    \n",
    "    ridge_train_mae = mean_absolute_error(yr_train_pred,yr_train)\n",
    "    ridge_train_mse = mean_squared_error(yr_train_pred,yr_train)\n",
    "    ridge_train_rmse = np.sqrt(ridge_train_mse)\n",
    "    \n",
    "    yr_test_pred = ridge.predict(Xr_test)\n",
    "    \n",
    "    ridge_test_mae = mean_absolute_error(yr_test_pred,yr_test)\n",
    "    ridge_test_mse = mean_squared_error(yr_test_pred,yr_test)\n",
    "    ridge_test_rmse = np.sqrt(ridge_test_mse)\n",
    "\n",
    "    print('prediction for linear reg testing set:')\n",
    "    print('MAE is: {}'.format(lr_test_mae))\n",
    "    print('MSE is: {}'.format(lr_test_mse))\n",
    "    print('RMSE is: {}'.format(lr_test_rmse))\n",
    "    print('\\n')\n",
    "    print('prediction for ridge (alpha: {}) testing set:'.format(alpha))\n",
    "    print('MAE is: {}'.format(ridge_test_mae))\n",
    "    print('MSE is: {}'.format(ridge_test_mse))\n",
    "    print('RMSE is: {}'.format(ridge_test_rmse))\n",
    "    print('\\n')\n",
    "    print('MAE difference: {}'.format(abs(lr_test_mae-ridge_test_mae)))\n",
    "    print('MSE difference: {}'.format(abs(lr_test_mse-ridge_test_mse)))\n",
    "    print('RMSE difference: {}'.format(abs(lr_test_rmse-ridge_test_rmse)))\n",
    "    print('\\n')\n"
   ]
  },
  {
   "cell_type": "code",
   "execution_count": null,
   "id": "56f34919-fd40-42f4-8969-163f6741fff4",
   "metadata": {},
   "outputs": [],
   "source": []
  }
 ],
 "metadata": {
  "kernelspec": {
   "display_name": "Python 3 (ipykernel)",
   "language": "python",
   "name": "python3"
  },
  "language_info": {
   "codemirror_mode": {
    "name": "ipython",
    "version": 3
   },
   "file_extension": ".py",
   "mimetype": "text/x-python",
   "name": "python",
   "nbconvert_exporter": "python",
   "pygments_lexer": "ipython3",
   "version": "3.12.1"
  }
 },
 "nbformat": 4,
 "nbformat_minor": 5
}
